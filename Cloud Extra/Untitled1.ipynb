{
 "cells": [
  {
   "cell_type": "code",
   "execution_count": 2,
   "id": "df2c2d5c-c63f-4029-b861-170e57c8ec31",
   "metadata": {},
   "outputs": [
    {
     "name": "stdout",
     "output_type": "stream",
     "text": [
      "Updated file saved at updated_dataset.csv\n"
     ]
    }
   ],
   "source": [
    "import pandas as pd\n",
    "\n",
    "# Load your CSV file\n",
    "  # Update with the correct path to your file\n",
    "data = pd.read_csv('updated_wifi_troubleshooting_data.csv')\n",
    "\n",
    "# Check the frequency of the 'Issue' column\n",
    "issue_counts = data['Issue'].value_counts()\n",
    "\n",
    "# Get the maximum count (e.g., 200)\n",
    "max_count = issue_counts.max()\n",
    "\n",
    "# Function to repeat rows\n",
    "def repeat_rows(df, issue, max_count):\n",
    "    current_count = len(df[df['Issue'] == issue])\n",
    "    multiplier = max_count // current_count\n",
    "    repeated_rows = pd.concat([df[df['Issue'] == issue]] * multiplier, ignore_index=True)\n",
    "    return repeated_rows\n",
    "\n",
    "# Multiply the rows that have fewer occurrences\n",
    "updated_data = pd.DataFrame()\n",
    "for issue in issue_counts.index:\n",
    "    if issue_counts[issue] < max_count:\n",
    "        repeated_rows = repeat_rows(data, issue, max_count)\n",
    "        updated_data = pd.concat([updated_data, repeated_rows], ignore_index=True)\n",
    "    else:\n",
    "        updated_data = pd.concat([updated_data, data[data['Issue'] == issue]], ignore_index=True)\n",
    "\n",
    "# Save the updated dataset to a new file\n",
    "updated_file_path = 'updated_dataset.csv'  # Change this to your desired output file path\n",
    "updated_data.to_csv(updated_file_path, index=False)\n",
    "\n",
    "print(f\"Updated file saved at {updated_file_path}\")\n"
   ]
  },
  {
   "cell_type": "code",
   "execution_count": null,
   "id": "82240c19-e5cf-470d-af58-43fcb1371631",
   "metadata": {},
   "outputs": [],
   "source": []
  }
 ],
 "metadata": {
  "kernelspec": {
   "display_name": "Python 3 (ipykernel)",
   "language": "python",
   "name": "python3"
  },
  "language_info": {
   "codemirror_mode": {
    "name": "ipython",
    "version": 3
   },
   "file_extension": ".py",
   "mimetype": "text/x-python",
   "name": "python",
   "nbconvert_exporter": "python",
   "pygments_lexer": "ipython3",
   "version": "3.11.3"
  }
 },
 "nbformat": 4,
 "nbformat_minor": 5
}
